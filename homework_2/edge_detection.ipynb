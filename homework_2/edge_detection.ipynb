{
 "cells": [
  {
   "attachments": {},
   "cell_type": "markdown",
   "metadata": {},
   "source": [
    "# Edge Detection\n",
    "\n",
    "Author(s): Raj Magesh Gauthaman (rgautha1@jh.edu)\n",
    "\n",
    "Reference: [Konishi et al. (2003)](https://doi.org/10.1109/TPAMI.2003.1159946)\n",
    "\n",
    "---\n",
    "\n",
    "This notebook implements an edge detection algorithm."
   ]
  },
  {
   "cell_type": "markdown",
   "metadata": {},
   "source": [
    "## Utilities"
   ]
  },
  {
   "cell_type": "code",
   "execution_count": null,
   "metadata": {},
   "outputs": [],
   "source": [
    "from __future__ import annotations\n",
    "from collections.abc import Collection\n",
    "import itertools\n",
    "\n",
    "import numpy as np\n",
    "import numpy.typing as npt\n",
    "import torch\n",
    "import torch.nn as nn\n",
    "import matplotlib as mpl\n",
    "import matplotlib.pyplot as plt\n",
    "from scipy.ndimage import gaussian_filter\n",
    "from scipy.stats import gaussian_kde\n",
    "from PIL import Image\n",
    "\n",
    "\n",
    "def plot_image(image: npt.NDArray, **kwargs) -> mpl.figure.Figure:\n",
    "    \"\"\"Plot an image.\"\"\"\n",
    "    fig, ax = plt.subplots()\n",
    "    ax.axis(\"off\")\n",
    "    ax.imshow(image, cmap=\"gray\", **kwargs)\n",
    "    fig.show()\n",
    "\n",
    "\n",
    "def load_data(id: int = 0) -> tuple[np.ndarray, np.ndarray]:\n",
    "    \"\"\"id can be from 0 to 6 (inclusive).\"\"\"\n",
    "    edge_map = np.array(Image.open(f\"data/edge_detection/edge_maps/{id}.bmp\").convert(\"1\"))\n",
    "    image = np.array(Image.open(f\"data/edge_detection/images/{id}.jpg\").convert(\"L\")).astype(float)\n",
    "    image /= 255\n",
    "    return image, edge_map\n",
    "\n",
    "\n",
    "def compute_gradient(image: npt.NDArray[float]) -> npt.NDArray[float]:\n",
    "    dx, dy = np.gradient(image)\n",
    "    return np.sqrt(dx ** 2 + dy ** 2)"
   ]
  },
  {
   "cell_type": "markdown",
   "metadata": {},
   "source": [
    "## Algorithm"
   ]
  },
  {
   "cell_type": "markdown",
   "metadata": {},
   "source": [
    "### Loading the data\n",
    "\n",
    "Let's load an image and its hand-annotated edge map."
   ]
  },
  {
   "cell_type": "code",
   "execution_count": null,
   "metadata": {},
   "outputs": [],
   "source": [
    "image, ground_truth = load_data(2)\n",
    "\n",
    "fig, axes = plt.subplots(nrows=1, ncols=2)\n",
    "axes[0].imshow(image, cmap=\"gray\")\n",
    "axes[0].set_title(\"image\")\n",
    "axes[1].imshow(ground_truth, cmap=\"gray\")\n",
    "axes[1].set_title(\"ground-truth edge map\")\n",
    "\n",
    "for ax in axes.flat:\n",
    "    ax.axis(\"off\")\n",
    "\n",
    "fig.tight_layout()\n",
    "fig.show()"
   ]
  },
  {
   "cell_type": "markdown",
   "metadata": {},
   "source": [
    "### Effect of smoothing\n",
    "\n",
    "We compute the gradient of the image (i) directly and (ii) after smoothing with a Gaussian filter, and visualize the magnitude of the gradient."
   ]
  },
  {
   "cell_type": "code",
   "execution_count": null,
   "metadata": {},
   "outputs": [],
   "source": [
    "fig, axes = plt.subplots(nrows=1, ncols=2)\n",
    "axes[0].imshow(compute_gradient(image), cmap=\"gray\")\n",
    "axes[0].set_title(\"$|\\\\nabla I|$\")\n",
    "axes[1].imshow(compute_gradient(gaussian_filter(image, sigma=2)), cmap=\"gray\")\n",
    "axes[1].set_title(\"$|\\\\nabla (G \\star I)|$\")\n",
    "\n",
    "for ax in axes.flat:\n",
    "    ax.axis(\"off\")\n",
    "    \n",
    "fig.tight_layout()\n",
    "fig.show()"
   ]
  },
  {
   "cell_type": "markdown",
   "metadata": {},
   "source": [
    "### Computing likelihoods\n",
    "\n",
    "Here, we compute the distribution of the gradient magnitudes for edge and non-edge pixels."
   ]
  },
  {
   "cell_type": "code",
   "execution_count": null,
   "metadata": {},
   "outputs": [],
   "source": [
    "def find_gradient_on_edge(gradient: npt.NDArray[float], edge_map: npt.NDArray[bool]) -> npt.NDArray[float]:\n",
    "    indices = np.nonzero(edge_map.flatten())\n",
    "\n",
    "    # allow for inaccurate boundary labelling by finding edge pixel in a 3x3 neighborhood\n",
    "    [offx, offy] = np.meshgrid(np.arange(-1, 2), np.arange(-1, 2))\n",
    "    offx = offx.flatten()\n",
    "    offy = offy.flatten()\n",
    "\n",
    "    gradient_copy = np.copy(gradient)\n",
    "    for i in range(9):\n",
    "        im = np.roll(gradient, offx[i], axis=1) # x axis\n",
    "        im = np.roll(im, offy[i], axis=0) # y axis    \n",
    "        gradient_copy = np.maximum(gradient_copy, im)\n",
    "\n",
    "    return gradient_copy.flatten()[indices]\n",
    "\n",
    "\n",
    "def find_gradient_off_edge(gradient: npt.NDArray[float], edge_map: npt.NDArray[bool]) -> npt.NDArray[float]:\n",
    "    indices = np.nonzero(~edge_map)\n",
    "    return gradient[indices] \n",
    "\n",
    "\n",
    "gradient = compute_gradient(image)\n",
    "\n",
    "on = find_gradient_on_edge(gradient, ground_truth)\n",
    "kde_on = gaussian_kde(on, bw_method=0.01 / on.std(ddof=1))\n",
    "off = find_gradient_off_edge(gradient, ground_truth)\n",
    "kde_off = gaussian_kde(off, bw_method=0.01 / off.std(ddof=1))\n",
    "\n",
    "bins = np.linspace(0, 0.5, 100)\n",
    "\n",
    "fig, axes = plt.subplots(nrows=2, ncols=1, sharex=True)\n",
    "axes[0].hist(on, bins=bins, label=\"edge pixels\", alpha=0.75, density=True)\n",
    "axes[0].hist(off, bins=bins, label=r\"non-edge pixels\", alpha=0.75, density=True)\n",
    "axes[0].set_ylabel(\"normalized histogram\")\n",
    "\n",
    "axes[1].plot(bins, kde_on(bins))\n",
    "axes[1].plot(bins, kde_off(bins))\n",
    "axes[1].set_ylabel(\"kernel density estimate\")\n",
    "\n",
    "fig.legend()\n",
    "fig.supxlabel(\"magnitude of gradient ($|\\\\nabla I |$)\")\n",
    "fig.tight_layout()\n",
    "fig.show()"
   ]
  },
  {
   "cell_type": "markdown",
   "metadata": {},
   "source": [
    "### Classification\n",
    "\n",
    "Now, we can classify pixels as edge pixels or non-edge pixels. Note: this cell will take a long time (~10 min) to run."
   ]
  },
  {
   "cell_type": "code",
   "execution_count": null,
   "metadata": {},
   "outputs": [],
   "source": [
    "p_on = kde_on(gradient.flatten()).reshape(gradient.shape)\n",
    "p_off = kde_off(gradient.flatten()).reshape(gradient.shape)\n",
    "\n",
    "threshold = 1\n",
    "decision = np.log(p_on / p_off) > threshold\n",
    "\n",
    "fig, axes = plt.subplots(ncols=3, figsize=(8, 4))\n",
    "axes[0].imshow(p_on, cmap=\"gray\")\n",
    "axes[0].set_title(\"P(edge)\")\n",
    "axes[1].imshow(p_off, cmap=\"gray\")\n",
    "axes[1].set_title(\"P(non-edge | gradient)\")\n",
    "axes[2].imshow(decision, cmap=\"gray\")\n",
    "axes[2].set_title(f\"decision (threshold = {threshold})\")\n",
    "\n",
    "for ax in axes.flat:\n",
    "    ax.axis(\"off\")\n",
    "fig.tight_layout()"
   ]
  },
  {
   "cell_type": "markdown",
   "metadata": {},
   "source": [
    "### ROC curve\n",
    "\n",
    "Now that we can classify pixels as either edge pixels or non-edge pixels, we can compute an ROC curve by varying the decision threshold."
   ]
  },
  {
   "cell_type": "code",
   "execution_count": null,
   "metadata": {},
   "outputs": [],
   "source": [
    "def compute_roc(criterion: npt.NDArray[float], ground_truth: npt.NDArray[bool], thresholds: Collection[float]) -> tuple[npt.NDArray[float], npt.NDArray[float]]:\n",
    "    prediction = np.stack([criterion >= threshold for threshold in thresholds])\n",
    "\n",
    "    true_positive = prediction & ground_truth\n",
    "    true_negative = ~prediction & ~ground_truth\n",
    "\n",
    "    false_positive = prediction & ~ground_truth\n",
    "    false_negative = ~prediction & ground_truth\n",
    "\n",
    "    true_positive_rate = true_positive.sum(axis=(-2, -1)) / ground_truth.sum()\n",
    "    false_positive_rate = false_positive.sum(axis=(-2, -1)) / (~ground_truth).sum()\n",
    "    return true_positive_rate, false_positive_rate\n",
    "\n",
    "\n",
    "criterion = np.log(p_on / p_off)\n",
    "thresholds = np.arange(-5, 5, step=0.1)\n",
    "tpr, fpr = compute_roc(criterion, ground_truth=ground_truth, thresholds=thresholds)\n",
    "\n",
    "fig, ax = plt.subplots()\n",
    "\n",
    "points = np.array([fpr, tpr]).T.reshape(-1, 1, 2)\n",
    "segments = np.concatenate([points[:-1], points[1:]], axis=1)\n",
    "\n",
    "norm = plt.Normalize(thresholds.min(), thresholds.max())\n",
    "lc = mpl.collections.LineCollection(segments=segments, cmap=\"turbo_r\", norm=norm, linewidth=4)\n",
    "lc.set_array(thresholds)\n",
    "line = ax.add_collection(lc)\n",
    "ax.set_xlabel(\"false positive rate\")\n",
    "ax.set_ylabel(\"true positive rate\")\n",
    "ax.axis(\"square\")\n",
    "ax.set_xlim(left=0, right=1)\n",
    "ax.set_ylim(bottom=0, top=1)\n",
    "ax.set_title(\"receiver operating characteristic (ROC) curve\")\n",
    "cb = fig.colorbar(line, ax=ax, label=\"threshold\")\n",
    "fig.show()"
   ]
  },
  {
   "cell_type": "markdown",
   "metadata": {},
   "source": [
    "## Questions\n",
    "\n",
    "### Q1 (6 points)\n",
    "\n",
    "Load another image and apply this edge detection algorithm. Find a good threshold and display your result.\n",
    "\n",
    "### Q2 (8 points)\n",
    "\n",
    "Repeat Q1 using the image gradient after smoothing the image (i.e. $\\nabla G \\star I$ instead of $\\nabla I$). Show your results for a couple of different variances ($\\sigma^2$) of the Gaussian filter."
   ]
  }
 ],
 "metadata": {
  "kernelspec": {
   "display_name": "Python 3.10.4 ('neural-dimensionality')",
   "language": "python",
   "name": "python3"
  },
  "language_info": {
   "codemirror_mode": {
    "name": "ipython",
    "version": 3
   },
   "file_extension": ".py",
   "mimetype": "text/x-python",
   "name": "python",
   "nbconvert_exporter": "python",
   "pygments_lexer": "ipython3",
   "version": "3.10.8 (main, Nov 24 2022, 14:13:03) [GCC 11.2.0]"
  },
  "orig_nbformat": 4,
  "vscode": {
   "interpreter": {
    "hash": "8aca399878df662d12a33c13450d8b5abb2859ca28936f41d8414d834a053a1c"
   }
  }
 },
 "nbformat": 4,
 "nbformat_minor": 2
}
